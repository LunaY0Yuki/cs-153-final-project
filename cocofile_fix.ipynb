{
 "cells": [
  {
   "cell_type": "code",
   "execution_count": 1,
   "metadata": {},
   "outputs": [],
   "source": [
    "import json"
   ]
  },
  {
   "cell_type": "code",
   "execution_count": null,
   "metadata": {},
   "outputs": [],
   "source": [
    "with open(\"20200805_OneSharkSUPSurfers_annotation.json\") as f:\n",
    "    "
   ]
  }
 ],
 "metadata": {
  "interpreter": {
   "hash": "b943e5280a275238bc72fa812b48b24c5e80cacf3fb51c13d96f985ad1a46fdd"
  },
  "kernelspec": {
   "display_name": "Python 3.8.12 ('cs153')",
   "language": "python",
   "name": "python3"
  },
  "language_info": {
   "codemirror_mode": {
    "name": "ipython",
    "version": 3
   },
   "file_extension": ".py",
   "mimetype": "text/x-python",
   "name": "python",
   "nbconvert_exporter": "python",
   "pygments_lexer": "ipython3",
   "version": "3.8.12"
  },
  "orig_nbformat": 4
 },
 "nbformat": 4,
 "nbformat_minor": 2
}
