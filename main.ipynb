{
 "cells": [
  {
   "cell_type": "code",
   "execution_count": 2,
   "metadata": {},
   "outputs": [],
   "source": [
    "%matplotlib inline\n",
    "from pycocotools.coco import COCO\n",
    "import numpy as np\n",
    "import matplotlib.pyplot as plt\n",
    "import matplotlib.patches as patches\n",
    "import pylab\n",
    "import os\n",
    "import cv2\n",
    "from PIL import Image\n",
    "pylab.rcParams['figure.figsize'] = (8.0, 10.0)\n",
    "# from https://github.com/cocodataset/cocoapi/blob/master/PythonAPI/pycocoDemo.ipynb"
   ]
  },
  {
   "cell_type": "code",
   "execution_count": 3,
   "metadata": {},
   "outputs": [
    {
     "name": "stdout",
     "output_type": "stream",
     "text": [
      "loading annotations into memory...\n",
      "Done (t=0.31s)\n",
      "creating index...\n",
      "index created!\n"
     ]
    }
   ],
   "source": [
    "coco_annotation = COCO(\"./merged_coco_annotation/merged_coco.json\")"
   ]
  },
  {
   "cell_type": "code",
   "execution_count": 4,
   "metadata": {},
   "outputs": [
    {
     "name": "stdout",
     "output_type": "stream",
     "text": [
      "Number of Unique Categories: 2\n",
      "Category IDs:\n",
      "[1, 2]\n"
     ]
    }
   ],
   "source": [
    " # Category IDs.\n",
    "cat_ids = coco_annotation.getCatIds()\n",
    "print(f\"Number of Unique Categories: {len(cat_ids)}\")\n",
    "print(\"Category IDs:\")\n",
    "print(cat_ids)  # The IDs are not necessarily consecutive."
   ]
  },
  {
   "cell_type": "code",
   "execution_count": 5,
   "metadata": {},
   "outputs": [
    {
     "name": "stdout",
     "output_type": "stream",
     "text": [
      "Categories Names:\n",
      "['shark', 'human']\n"
     ]
    }
   ],
   "source": [
    "# All categories.\n",
    "cats = coco_annotation.loadCats(cat_ids)\n",
    "cat_names = [cat[\"name\"] for cat in cats]\n",
    "print(\"Categories Names:\")\n",
    "print(cat_names)"
   ]
  },
  {
   "cell_type": "code",
   "execution_count": 6,
   "metadata": {},
   "outputs": [
    {
     "name": "stdout",
     "output_type": "stream",
     "text": [
      "Category ID -> Category Name:\n",
      "Category ID: 1, Category Name: shark, Supercategory: object_label\n"
     ]
    }
   ],
   "source": [
    "# Category ID -> Category Name.\n",
    "query_id = cat_ids[0]\n",
    "query_annotation = coco_annotation.loadCats([query_id])[0]\n",
    "query_name = query_annotation[\"name\"]\n",
    "query_supercategory = query_annotation[\"supercategory\"]\n",
    "print(\"Category ID -> Category Name:\")\n",
    "print(\n",
    "    f\"Category ID: {query_id}, Category Name: {query_name}, Supercategory: {query_supercategory}\"\n",
    ")"
   ]
  },
  {
   "cell_type": "code",
   "execution_count": 7,
   "metadata": {},
   "outputs": [
    {
     "name": "stdout",
     "output_type": "stream",
     "text": [
      "Category Name -> ID:\n",
      "Category Name: shark, Category ID: 1\n"
     ]
    }
   ],
   "source": [
    "# Category Name -> Category ID.\n",
    "query_name = cat_names[0]\n",
    "query_id = coco_annotation.getCatIds(catNms=[query_name])[0]\n",
    "print(\"Category Name -> ID:\")\n",
    "print(f\"Category Name: {query_name}, Category ID: {query_id}\")"
   ]
  },
  {
   "cell_type": "code",
   "execution_count": 7,
   "metadata": {},
   "outputs": [],
   "source": [
    "ann_ids = coco_annotation.getAnnIds()"
   ]
  },
  {
   "cell_type": "code",
   "execution_count": 8,
   "metadata": {},
   "outputs": [
    {
     "name": "stdout",
     "output_type": "stream",
     "text": [
      "37169\n"
     ]
    }
   ],
   "source": [
    "print(len(ann_ids))"
   ]
  },
  {
   "cell_type": "code",
   "execution_count": 9,
   "metadata": {},
   "outputs": [
    {
     "name": "stdout",
     "output_type": "stream",
     "text": [
      "Number of Images Containing shark: 7724\n"
     ]
    }
   ],
   "source": [
    "# Get the ID of all the images containing the object of the category.\n",
    "img_ids = coco_annotation.getImgIds(catIds=[query_id])\n",
    "print(f\"Number of Images Containing {query_name}: {len(img_ids)}\")"
   ]
  },
  {
   "cell_type": "code",
   "execution_count": 11,
   "metadata": {},
   "outputs": [
    {
     "name": "stdout",
     "output_type": "stream",
     "text": [
      "[100000, 100001, 100002, 100003, 100004, 100005, 100006, 100007, 100008, 100009, 100010, 100011, 100012, 100013, 100014, 100015, 100016, 100017, 100018, 100019, 100020, 100021, 100022, 100023, 100024, 100025, 100026, 100027, 100028, 100029, 100030, 100031, 100032, 100033, 100034, 100035, 100036, 100037, 100038, 100039, 100040, 100041, 100042, 100043, 100044, 100045, 100046, 100047, 100048, 100049, 100050, 100051, 100052, 100053, 100054, 100055, 100056, 100057, 100058, 100059, 100060, 100061, 100062, 100063, 100064, 100065, 100066, 100067, 100068, 100069, 100070, 100071, 100072, 100073, 100074, 100075, 100076, 100077, 100078, 100079, 100080, 100081, 100082, 100083, 100084, 100085, 100086, 100087, 100088, 100089, 100090, 100092, 100093, 100094, 100095, 100096, 100097, 100098, 100099, 100100, 100101, 100102, 100103, 100104, 100105, 100106, 100107, 100108, 100109, 100110, 100111, 100112, 100113, 100114, 100115, 100116, 100117, 100118, 100119, 100120, 100121, 100122, 100123, 100124, 100125, 100126, 100127, 100128, 100129, 100130, 100131, 100132, 100133, 100134, 100135, 100136, 100137, 100138, 100139, 100140, 100141, 100142, 100143, 100144, 100145, 100146, 100147, 100148, 100149, 100150, 100151, 100152, 100153, 100154, 100155, 100156, 100157, 100158, 100159, 100160, 100161]\n"
     ]
    }
   ],
   "source": [
    "print(img_ids)"
   ]
  },
  {
   "cell_type": "code",
   "execution_count": 12,
   "metadata": {},
   "outputs": [
    {
     "name": "stdout",
     "output_type": "stream",
     "text": [
      "Image ID: 100002, File Name: 20200805_OneSharkSUPSurfers_00002.jpg, Image URL: \n"
     ]
    }
   ],
   "source": [
    "# Pick one image.\n",
    "img_id = img_ids[2]\n",
    "img_info = coco_annotation.loadImgs([img_id])[0]\n",
    "img_file_name = img_info[\"file_name\"]\n",
    "img_url = img_info[\"coco_url\"]\n",
    "print(\n",
    "    f\"Image ID: {img_id}, File Name: {img_file_name}, Image URL: {img_url}\"\n",
    ")"
   ]
  },
  {
   "cell_type": "code",
   "execution_count": 13,
   "metadata": {},
   "outputs": [
    {
     "name": "stdout",
     "output_type": "stream",
     "text": [
      "Annotations for Image ID 100002:\n",
      "{'id': 100002000, 'image_id': 100002, 'category_id': 1, 'segmentation': [[545.86, 1138.605, 609.488, 1138.605, 609.488, 1229.0230000000001, 545.86, 1229.0230000000001]], 'area': 5753.1165040000005, 'bbox': [545.86, 1138.605, 63.628, 90.418], 'iscrowd': 0}\n",
      "100002\n"
     ]
    }
   ],
   "source": [
    "# Get all the annotations for the specified image.\n",
    "ann_ids = coco_annotation.getAnnIds(imgIds=[img_id], iscrowd=None)\n",
    "anns = coco_annotation.loadAnns(ann_ids)\n",
    "print(f\"Annotations for Image ID {img_id}:\")\n",
    "print(anns[0])\n",
    "print(anns[0]['image_id'])\n"
   ]
  },
  {
   "cell_type": "code",
   "execution_count": 19,
   "metadata": {},
   "outputs": [],
   "source": [
    "for i in range(1):\n",
    "    # img_id = img_ids[i]\n",
    "    img_id = 100091\n",
    "    img_num = str(img_id - 100000)\n",
    "    img_num = img_num.zfill(5)\n",
    "    # Use URL to load image.\n",
    "    im = Image.open(f\"images/20200805_OneSharkSUPSurfers_{img_num}.jpg\")\n",
    "    \n",
    "    ann_ids = coco_annotation.getAnnIds(imgIds=[img_id], iscrowd=None)\n",
    "    anns = coco_annotation.loadAnns(ann_ids)\n",
    "\n",
    "    width, height = (854, 480)\n",
    "    my_dpi=96\n",
    "\n",
    "    # print(im.size)\n",
    "\n",
    "    fig, ax = plt.subplots(figsize=(width/my_dpi, height/my_dpi), dpi=my_dpi)\n",
    "    ax.axis(\"off\")\n",
    "    ax.imshow(np.asarray(im))\n",
    "\n",
    "    cat_id_to_text = {1: \"shark\", 2: \"human\"}\n",
    "    \n",
    "    # # Save image and its labeled version.\n",
    "    # plt.axis(\"off\")\n",
    "    # plt.imshow(np.asarray(im))\n",
    "    # plt.savefig(f\"{img_id}.jpg\", bbox_inches=\"tight\", pad_inches=0)\n",
    "    # Plot segmentation and bounding box.\n",
    "    for ann in anns:\n",
    "        box = ann['bbox']\n",
    "        # cat_name = cat_id_to_text[ann['category_id']]\n",
    "        bb = patches.Rectangle((box[0],box[1]), box[2],box[3], linewidth=1.5, edgecolor=\"red\", facecolor=\"none\")\n",
    "        ax.add_patch(bb)\n",
    "        ax.text(max(0, box[0] - 50), max(0, box[1] - 40), ann['category_id'], fontsize='small', color='white', bbox={'facecolor': 'red', 'alpha': 1, 'pad': 1})\n",
    "\n",
    "    # coco_annotation.showAnns(anns, draw_bbox=True)\n",
    "\n",
    "    # for i, ann in enumerate(anns):\n",
    "    #     ax.text(anns[i]['bbox'][0], anns[i]['bbox'][1], anns[i]['category_id'], \n",
    "    #             bbox={'facecolor': 'None', 'alpha': 0.7, 'pad': 5})\n",
    "    \n",
    "    plt.savefig(f\"check_ann_dont-save/{img_id}_annotated.png\", bbox_inches=\"tight\", pad_inches=0, dpi=my_dpi)\n",
    "\n",
    "    plt.close()\n"
   ]
  },
  {
   "cell_type": "code",
   "execution_count": 32,
   "metadata": {},
   "outputs": [],
   "source": [
    "def generate_video():\n",
    "    image_folder = './check_ann_dont-save' # make sure to use your folder\n",
    "    video_name = 'mygeneratedvideo.avi'\n",
    "      \n",
    "    images = [img for img in os.listdir(image_folder)\n",
    "              if img.endswith(\".jpg\") or\n",
    "                 img.endswith(\".jpeg\") or\n",
    "                 img.endswith(\"png\")]\n",
    "     \n",
    "    # Array images should only consider\n",
    "    # the image files ignoring others if any\n",
    "    print(images) \n",
    "  \n",
    "    frame = cv2.imread(os.path.join(image_folder, images[0]))\n",
    "  \n",
    "  \n",
    "    # setting the frame width, height width\n",
    "    # the width, height of first image\n",
    "    height, width, layers = frame.shape  \n",
    "  \n",
    "    # video = cv2.VideoWriter(video_name, 0, 1, (width, height)) \n",
    "  \n",
    "    # # Appending the images to the video one by one\n",
    "    # for image in images: \n",
    "    #     video.write(cv2.imread(os.path.join(image_folder, image))) \n",
    "      \n",
    "    # # Deallocating memories taken for window creation\n",
    "    # cv2.destroyAllWindows() \n",
    "    # video.release()  # releasing the video generated"
   ]
  },
  {
   "cell_type": "code",
   "execution_count": 33,
   "metadata": {},
   "outputs": [
    {
     "name": "stdout",
     "output_type": "stream",
     "text": [
      "['100017_annotated.png', '100000_annotated.png', '100004_annotated.png', '100013_annotated.png', '100010_annotated.png', '100023_annotated.png', '100009_annotated.png', '100020_annotated.png', '100025_annotated.png', '100021_annotated.png', '100018_annotated.png', '100008_annotated.png', '100022_annotated.png', '100006_annotated.png', '100011_annotated.png', '100015_annotated.png', '100002_annotated.png', '100005_annotated.png', '100001_annotated.png', '100016_annotated.png']\n"
     ]
    }
   ],
   "source": [
    "generate_video()"
   ]
  },
  {
   "cell_type": "code",
   "execution_count": null,
   "metadata": {},
   "outputs": [
    {
     "data": {
      "text/plain": [
       "124"
      ]
     },
     "execution_count": 22,
     "metadata": {},
     "output_type": "execute_result"
    }
   ],
   "source": [
    "coco_annotation.loadAnns(1)[0][\"image_id\"]"
   ]
  },
  {
   "cell_type": "code",
   "execution_count": null,
   "metadata": {},
   "outputs": [
    {
     "name": "stdout",
     "output_type": "stream",
     "text": [
      "[124, 134, 144, 2, 4, 154, 5, 7, 9, 62, 10, 12, 14, 97, 15, 17, 19, 1, 3, 6, 8, 11, 13, 16, 18, 20, 21, 22, 23, 24, 25, 26, 27, 28, 29, 30, 31, 32, 33, 34, 35, 36, 37, 38, 39, 40, 41, 42, 43, 44, 45, 46, 47, 48, 49, 50, 51, 52, 53, 54, 55, 56, 57, 58, 59, 60, 61, 63, 64, 65, 66, 67, 68, 69, 70, 71, 72, 73, 74, 75, 76, 77, 78, 79, 80, 81, 82, 83, 84, 85, 86, 87, 88, 89, 90, 91, 92, 93, 94, 95, 96, 98, 99, 100, 101, 102, 103, 104, 105, 106, 107, 108, 109, 110, 111, 112, 113, 114, 115, 116, 117, 118, 119, 120, 121, 122, 123, 125, 126, 127, 128, 129, 130, 131, 132, 133, 135, 136, 137, 138, 139, 140, 141, 142, 143, 145, 146, 147, 148, 149, 150, 151, 152, 153, 155, 156, 157, 158, 159, 160, 161, 162]\n"
     ]
    }
   ],
   "source": [
    "sorted_image_list = [None for _ in range(len(img_ids))]\n",
    "\n",
    "order = 0\n",
    "curr_img_id = None\n",
    "\n",
    "for ann_id in ann_ids:\n",
    "    img_id = coco_annotation.loadAnns(ann_id)[0][\"image_id\"]\n",
    "    \n",
    "    if img_id != curr_img_id:\n",
    "        # this is an image that has not been added to the list\n",
    "        sorted_image_list[order] = img_id\n",
    "        curr_img_id = img_id\n",
    "        order += 1\n",
    "\n",
    "print(sorted_image_list)"
   ]
  },
  {
   "cell_type": "code",
   "execution_count": null,
   "metadata": {},
   "outputs": [
    {
     "data": {
      "text/plain": [
       "'00123'"
      ]
     },
     "execution_count": 27,
     "metadata": {},
     "output_type": "execute_result"
    }
   ],
   "source": [
    "str(123).zfill(5)"
   ]
  },
  {
   "cell_type": "code",
   "execution_count": null,
   "metadata": {},
   "outputs": [],
   "source": []
  }
 ],
 "metadata": {
  "interpreter": {
   "hash": "aee8b7b246df8f9039afb4144a1f6fd8d2ca17a180786b69acc140d282b71a49"
  },
  "kernelspec": {
   "display_name": "Python 3.6.7 64-bit",
   "language": "python",
   "name": "python3"
  },
  "language_info": {
   "codemirror_mode": {
    "name": "ipython",
    "version": 3
   },
   "file_extension": ".py",
   "mimetype": "text/x-python",
   "name": "python",
   "nbconvert_exporter": "python",
   "pygments_lexer": "ipython3",
   "version": "3.8.12"
  },
  "orig_nbformat": 4
 },
 "nbformat": 4,
 "nbformat_minor": 2
}
